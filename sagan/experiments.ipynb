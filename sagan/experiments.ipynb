{
 "cells": [
  {
   "cell_type": "code",
   "execution_count": 1,
   "metadata": {},
   "outputs": [],
   "source": [
    "import numpy as np\n",
    "import tensorflow as tf\n",
    "from tensorflow.keras import Model, Input, layers\n",
    "from layers import SpectralNormalization\n",
    "\n",
    "def get_generator():\n",
    "    z = Input(shape=(10,), name='noisy')\n",
    "    x = z\n",
    "    x = SpectralNormalization(layers.Dense(20))(x)\n",
    "    #x = layers.Dense(20)(x)\n",
    "    outputs = x\n",
    "    return Model(inputs=[z], outputs=outputs)"
   ]
  },
  {
   "cell_type": "code",
   "execution_count": 2,
   "metadata": {},
   "outputs": [],
   "source": [
    "mirrored_strategy = tf.distribute.MirroredStrategy()"
   ]
  },
  {
   "cell_type": "code",
   "execution_count": 3,
   "metadata": {},
   "outputs": [
    {
     "name": "stdout",
     "output_type": "stream",
     "text": [
      "sn build False\n",
      "tf.Tensor(\n",
      "[[-0.65450794  0.8323131   0.08757466 -2.0011845  -0.03293195  0.18466248\n",
      "  -0.81771445  1.0800742  -1.3708953   0.47246563  0.78543454  0.8174892\n",
      "  -0.5517115  -0.77204365  0.1748218   0.2880929   0.74631315 -0.0842401\n",
      "   2.581838    0.6878972 ]], shape=(1, 20), dtype=float32)\n",
      "tf.Tensor(\n",
      "[[-0.65450794  0.8323131   0.08757466 -2.0011845  -0.03293195  0.18466248\n",
      "  -0.81771445  1.0800742  -1.3708953   0.47246563  0.78543454  0.8174892\n",
      "  -0.5517115  -0.77204365  0.1748218   0.2880929   0.74631315 -0.0842401\n",
      "   2.581838    0.6878972 ]], shape=(1, 20), dtype=float32)\n",
      "build done\n",
      "sn call Tensor(\"noisy:0\", shape=(None, 10), dtype=float32) False\n",
      "sn update_uv\n",
      "W <class 'tensorflow.python.distribute.values.MirroredVariable'> MirroredVariable:{\n",
      "  0 /job:localhost/replica:0/task:0/device:GPU:0: <tf.Variable 'spectral_normalization/kernel:0' shape=(10, 20) dtype=float32>,\n",
      "  1 /job:localhost/replica:0/task:0/device:GPU:1: <tf.Variable 'spectral_normalization/kernel/replica_1:0' shape=(10, 20) dtype=float32>\n",
      "}\n",
      "u <class 'tensorflow.python.distribute.values.MirroredVariable'> MirroredVariable:{\n",
      "  0 /job:localhost/replica:0/task:0/device:GPU:0: <tf.Variable 'spectral_normalization/sn_u:0' shape=(1, 20) dtype=float32>,\n",
      "  1 /job:localhost/replica:0/task:0/device:GPU:1: <tf.Variable 'spectral_normalization/sn_u/replica_1:0' shape=(1, 20) dtype=float32>\n",
      "}\n",
      "u MirroredVariable:{\n",
      "  0 /job:localhost/replica:0/task:0/device:GPU:0: <tf.Variable 'spectral_normalization/sn_u:0' shape=(1, 20) dtype=float32>,\n",
      "  1 /job:localhost/replica:0/task:0/device:GPU:1: <tf.Variable 'spectral_normalization/sn_u/replica_1:0' shape=(1, 20) dtype=float32>\n",
      "}\n",
      "u2 MirroredVariable:{\n",
      "  0 /job:localhost/replica:0/task:0/device:GPU:0: <tf.Variable 'spectral_normalization/sn_u:0' shape=(1, 20) dtype=float32>,\n",
      "  1 /job:localhost/replica:0/task:0/device:GPU:1: <tf.Variable 'spectral_normalization/sn_u/replica_1:0' shape=(1, 20) dtype=float32>\n",
      "}\n",
      "u3 MirroredVariable:{\n",
      "  0 /job:localhost/replica:0/task:0/device:GPU:0: <tf.Variable 'spectral_normalization/sn_u:0' shape=(1, 20) dtype=float32>,\n",
      "  1 /job:localhost/replica:0/task:0/device:GPU:1: <tf.Variable 'spectral_normalization/sn_u/replica_1:0' shape=(1, 20) dtype=float32>\n",
      "}\n"
     ]
    }
   ],
   "source": [
    "with mirrored_strategy.scope():\n",
    "    G = get_generator()\n",
    "    optimizer = tf.keras.optimizers.Adam(learning_rate=1e-3, beta_1=0.)\n"
   ]
  },
  {
   "cell_type": "code",
   "execution_count": 4,
   "metadata": {},
   "outputs": [],
   "source": [
    "@tf.function\n",
    "def train_step(G, optimizer):\n",
    "        # Update G.\n",
    "        def step_fn():\n",
    "            train_x = tf.random.normal([2, 10])\n",
    "            train_y = tf.concat([train_x, train_x[:, ::-1]], axis=1)\n",
    "            with tf.GradientTape() as gen_tape:\n",
    "                output = G(train_x)\n",
    "                gen_loss = tf.losses.mean_squared_error(output, train_y)\n",
    "\n",
    "            grads_G = gen_tape.gradient(gen_loss, G.trainable_variables)\n",
    "            optimizer.apply_gradients(zip(grads_G, G.trainable_variables))\n",
    "        per_example_losses = mirrored_strategy.experimental_run_v2(step_fn)"
   ]
  },
  {
   "cell_type": "code",
   "execution_count": 5,
   "metadata": {},
   "outputs": [
    {
     "name": "stdout",
     "output_type": "stream",
     "text": [
      "sn call Tensor(\"random_normal:0\", shape=(2, 10), dtype=float32, device=/job:localhost/replica:0/task:0/device:GPU:0) False\n",
      "sn call Tensor(\"replica_1/random_normal:0\", shape=(2, 10), dtype=float32, device=/job:localhost/replica:0/task:0/device:GPU:1) False\n",
      "INFO:tensorflow:batch_all_reduce: 2 all-reduces with algorithm = nccl, num_packs = 1, agg_small_grads_max_bytes = 0 and agg_small_grads_max_group = 10\n",
      "sn call Tensor(\"random_normal:0\", shape=(2, 10), dtype=float32, device=/job:localhost/replica:0/task:0/device:GPU:0) False\n",
      "sn call Tensor(\"replica_1/random_normal:0\", shape=(2, 10), dtype=float32, device=/job:localhost/replica:0/task:0/device:GPU:1) False\n",
      "INFO:tensorflow:batch_all_reduce: 2 all-reduces with algorithm = nccl, num_packs = 1, agg_small_grads_max_bytes = 0 and agg_small_grads_max_group = 10\n"
     ]
    }
   ],
   "source": [
    "with mirrored_strategy.scope():\n",
    "    for i in range(3000):\n",
    "        train_step(G, optimizer)"
   ]
  },
  {
   "cell_type": "code",
   "execution_count": 6,
   "metadata": {},
   "outputs": [
    {
     "name": "stdout",
     "output_type": "stream",
     "text": [
      "sn call tf.Tensor(\n",
      "[[-1.96855    -0.7202482  -0.85717434  1.4834418   0.82927316 -0.43805447\n",
      "   1.2045871  -0.5977998   0.49789014  0.05792151]], shape=(1, 10), dtype=float32) True\n"
     ]
    }
   ],
   "source": [
    "train_x = tf.random.normal([1, 10])\n",
    "train_y = tf.concat([train_x, train_x[:, ::-1]], axis=1)\n",
    "output = G(train_x)"
   ]
  },
  {
   "cell_type": "code",
   "execution_count": 7,
   "metadata": {},
   "outputs": [
    {
     "data": {
      "text/plain": [
       "<tf.Tensor: id=875, shape=(1, 20), dtype=float32, numpy=\n",
       "array([[ 1.0457635e-02,  2.4338365e-03,  2.7161837e-04, -6.5629482e-03,\n",
       "        -7.3384643e-03,  4.7552586e-04, -8.3702683e-02,  4.0884018e-03,\n",
       "        -1.2866795e-02, -1.1995435e-05, -2.4969876e-04, -1.6444862e-02,\n",
       "         2.0337105e-04, -4.5251369e-02,  4.6417117e-04, -2.0331144e-04,\n",
       "        -8.5842609e-02,  1.7935991e-02,  5.7500601e-04,  9.0997934e-02]],\n",
       "      dtype=float32)>"
      ]
     },
     "execution_count": 7,
     "metadata": {},
     "output_type": "execute_result"
    }
   ],
   "source": [
    "output - train_y"
   ]
  },
  {
   "cell_type": "code",
   "execution_count": 8,
   "metadata": {},
   "outputs": [
    {
     "ename": "AttributeError",
     "evalue": "'Model' object has no attribute 'u'",
     "output_type": "error",
     "traceback": [
      "\u001b[0;31m---------------------------------------------------------------------------\u001b[0m",
      "\u001b[0;31mAttributeError\u001b[0m                            Traceback (most recent call last)",
      "\u001b[0;32m<ipython-input-8-5fb6446a9354>\u001b[0m in \u001b[0;36m<module>\u001b[0;34m\u001b[0m\n\u001b[0;32m----> 1\u001b[0;31m \u001b[0mG\u001b[0m\u001b[0;34m.\u001b[0m\u001b[0mu\u001b[0m\u001b[0;34m\u001b[0m\u001b[0;34m\u001b[0m\u001b[0m\n\u001b[0m",
      "\u001b[0;31mAttributeError\u001b[0m: 'Model' object has no attribute 'u'"
     ]
    }
   ],
   "source": [
    "G.layers[-1]u"
   ]
  },
  {
   "cell_type": "code",
   "execution_count": null,
   "metadata": {},
   "outputs": [],
   "source": []
  }
 ],
 "metadata": {
  "kernelspec": {
   "display_name": "Python 3",
   "language": "python",
   "name": "python3"
  },
  "language_info": {
   "codemirror_mode": {
    "name": "ipython",
    "version": 3
   },
   "file_extension": ".py",
   "mimetype": "text/x-python",
   "name": "python",
   "nbconvert_exporter": "python",
   "pygments_lexer": "ipython3",
   "version": "3.6.8"
  }
 },
 "nbformat": 4,
 "nbformat_minor": 2
}
